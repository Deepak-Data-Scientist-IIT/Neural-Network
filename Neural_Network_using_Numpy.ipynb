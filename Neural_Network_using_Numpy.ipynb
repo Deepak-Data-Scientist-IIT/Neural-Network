{
  "nbformat": 4,
  "nbformat_minor": 0,
  "metadata": {
    "colab": {
      "name": "Neural Network using Numpy",
      "provenance": [],
      "collapsed_sections": [],
      "authorship_tag": "ABX9TyPSQYaG9m8ZJPsJ+xBbR/bG",
      "include_colab_link": true
    },
    "kernelspec": {
      "name": "python3",
      "display_name": "Python 3"
    }
  },
  "cells": [
    {
      "cell_type": "markdown",
      "metadata": {
        "id": "view-in-github",
        "colab_type": "text"
      },
      "source": [
        "<a href=\"https://colab.research.google.com/github/Deepak-Data-Scientist-IIT/Neural-Network/blob/master/Neural_Network_using_Numpy.ipynb\" target=\"_parent\"><img src=\"https://colab.research.google.com/assets/colab-badge.svg\" alt=\"Open In Colab\"/></a>"
      ]
    },
    {
      "cell_type": "code",
      "metadata": {
        "id": "H921eV2ssSn0",
        "colab_type": "code",
        "colab": {}
      },
      "source": [
        "# Importing required Libraries \n",
        "import numpy as np\n",
        "import matplotlib\n",
        "import matplotlib.pyplot as plt\n",
        "%matplotlib inline"
      ],
      "execution_count": 71,
      "outputs": []
    },
    {
      "cell_type": "code",
      "metadata": {
        "id": "vWjXNNDhs_wL",
        "colab_type": "code",
        "colab": {
          "base_uri": "https://localhost:8080/",
          "height": 35
        },
        "outputId": "f5235d2f-a6e4-4e16-dab9-843e480e9a61"
      },
      "source": [
        "# version of numpy library\n",
        "print('version of numpy:',np.__version__)"
      ],
      "execution_count": 72,
      "outputs": [
        {
          "output_type": "stream",
          "text": [
            "version of numpy: 1.18.5\n"
          ],
          "name": "stdout"
        }
      ]
    },
    {
      "cell_type": "code",
      "metadata": {
        "id": "XvUOyWGWtZ1i",
        "colab_type": "code",
        "colab": {
          "base_uri": "https://localhost:8080/",
          "height": 35
        },
        "outputId": "1f841656-afec-4bda-fb34-14225911ac4e"
      },
      "source": [
        "# version of matplotlib library\n",
        "print('version of matplotlib:',matplotlib.__version__)"
      ],
      "execution_count": 74,
      "outputs": [
        {
          "output_type": "stream",
          "text": [
            "version of matplotlib: 3.2.2\n"
          ],
          "name": "stdout"
        }
      ]
    },
    {
      "cell_type": "code",
      "metadata": {
        "id": "RoU3kmEKuwOL",
        "colab_type": "code",
        "colab": {
          "base_uri": "https://localhost:8080/",
          "height": 139
        },
        "outputId": "0342238e-7c60-4d1b-e6c1-3085178a7572"
      },
      "source": [
        "# creating the input array\n",
        "X = np.array([[1,0,1,0], [1,0,1,1], [0,1,0,1]])\n",
        "print('\\n input:')\n",
        "print(X)\n",
        "# shape of input array\n",
        "print('\\n shape of input:',X.shape)"
      ],
      "execution_count": 75,
      "outputs": [
        {
          "output_type": "stream",
          "text": [
            "\n",
            " input:\n",
            "[[1 0 1 0]\n",
            " [1 0 1 1]\n",
            " [0 1 0 1]]\n",
            "\n",
            " shape of input: (3, 4)\n"
          ],
          "name": "stdout"
        }
      ]
    },
    {
      "cell_type": "code",
      "metadata": {
        "id": "Y-Qal59owQCZ",
        "colab_type": "code",
        "colab": {
          "base_uri": "https://localhost:8080/",
          "height": 121
        },
        "outputId": "1aa783bf-3169-437e-ec59-efeddbac9ef1"
      },
      "source": [
        "# converting the input in matrix form\n",
        "X= X.T\n",
        "print('\\n input in matrix form:')\n",
        "print(X)"
      ],
      "execution_count": 76,
      "outputs": [
        {
          "output_type": "stream",
          "text": [
            "\n",
            " input in matrix form:\n",
            "[[1 1 0]\n",
            " [0 0 1]\n",
            " [1 1 0]\n",
            " [0 1 1]]\n"
          ],
          "name": "stdout"
        }
      ]
    },
    {
      "cell_type": "code",
      "metadata": {
        "id": "JTpoxJMv7tAE",
        "colab_type": "code",
        "colab": {
          "base_uri": "https://localhost:8080/",
          "height": 191
        },
        "outputId": "b4fffe83-c991-43cb-ee91-f0414d643bf6"
      },
      "source": [
        "# Creating the output array\n",
        "y= np.array([[1],[1],[0]])\n",
        "print('\\n Actual output:')\n",
        "print(y)\n",
        "\n",
        "# output in matrix form\n",
        "y= y.T\n",
        "\n",
        "print('\\n output in matrix form')\n",
        "print(y)\n",
        "\n",
        "# shape of output array\n",
        "print('\\n shape of output array:',y.shape)\n"
      ],
      "execution_count": 77,
      "outputs": [
        {
          "output_type": "stream",
          "text": [
            "\n",
            " Actual output:\n",
            "[[1]\n",
            " [1]\n",
            " [0]]\n",
            "\n",
            " output in matrix form\n",
            "[[1 1 0]]\n",
            "\n",
            " shape of output array: (1, 3)\n"
          ],
          "name": "stdout"
        }
      ]
    },
    {
      "cell_type": "markdown",
      "metadata": {
        "id": "PP6JNtAg2Ux2",
        "colab_type": "text"
      },
      "source": [
        "2 Architecture of the model (input, hidden and output neurons)"
      ]
    },
    {
      "cell_type": "code",
      "metadata": {
        "id": "ibEWFrfu2nEp",
        "colab_type": "code",
        "colab": {}
      },
      "source": [
        "inputlayer_neurons= X.shape[0] # Number of future in dataset\n",
        "hiddenlayer_neurons= 3 #number of hidden layer neurons\n",
        "output_neurons= 1 # Number of neurons at output layer"
      ],
      "execution_count": 78,
      "outputs": []
    },
    {
      "cell_type": "markdown",
      "metadata": {
        "id": "Tdzs_sPL4eEi",
        "colab_type": "text"
      },
      "source": [
        "3 Initializiang the weights for all the layer"
      ]
    },
    {
      "cell_type": "code",
      "metadata": {
        "id": "SkmbIP4K4khb",
        "colab_type": "code",
        "colab": {}
      },
      "source": [
        "# Initializing weights\n",
        "# shape of w_ih should number of neurons at input layer X number of neurons at hidden layer\n",
        "w_ih = np.random.uniform(size=(inputlayer_neurons,hiddenlayer_neurons))\n",
        "\n",
        "# shape of w_ho should number of nurons at hidden layer X number of neurons at output layer\n",
        "w_ho = np.random.uniform(size=(hiddenlayer_neurons,output_neurons))"
      ],
      "execution_count": 80,
      "outputs": []
    },
    {
      "cell_type": "code",
      "metadata": {
        "id": "WsHRr5Dt93oJ",
        "colab_type": "code",
        "colab": {
          "base_uri": "https://localhost:8080/",
          "height": 35
        },
        "outputId": "2d160196-9558-420c-b9ea-73627d26858d"
      },
      "source": [
        "# Shape of weight matrix\n",
        "w_ih.shape, w_ho.shape"
      ],
      "execution_count": 81,
      "outputs": [
        {
          "output_type": "execute_result",
          "data": {
            "text/plain": [
              "((4, 3), (3, 1))"
            ]
          },
          "metadata": {
            "tags": []
          },
          "execution_count": 81
        }
      ]
    },
    {
      "cell_type": "markdown",
      "metadata": {
        "id": "ZU57FhAh-X1T",
        "colab_type": "text"
      },
      "source": [
        "Implement forword propogation"
      ]
    },
    {
      "cell_type": "code",
      "metadata": {
        "id": "fRMt6dr1-dww",
        "colab_type": "code",
        "colab": {}
      },
      "source": [
        "# we are using sigmoid as an activation function so defining the sigmoid function here \n",
        "\n",
        "# Defining the sigmoid function\n",
        "def sigmoid(x):\n",
        "  return 1/(1+np.exp(-x))"
      ],
      "execution_count": 82,
      "outputs": []
    },
    {
      "cell_type": "code",
      "metadata": {
        "id": "4inA6B-t_NDn",
        "colab_type": "code",
        "colab": {}
      },
      "source": [
        "# hidden layer activation\n",
        "hidden_layer_input= np.dot(w_ih.T,X)\n",
        "hiddenlayer_activations= sigmoid(hidden_layer_input)"
      ],
      "execution_count": 83,
      "outputs": []
    },
    {
      "cell_type": "code",
      "metadata": {
        "id": "wvRGEpsBAKiP",
        "colab_type": "code",
        "colab": {}
      },
      "source": [
        "# Calculating the output\n",
        "output_layer_input= np.dot(w_ho.T,hiddenlayer_activations)\n",
        "output= sigmoid(output_layer_input)"
      ],
      "execution_count": 84,
      "outputs": []
    },
    {
      "cell_type": "code",
      "metadata": {
        "id": "lrq73XRaBwZL",
        "colab_type": "code",
        "colab": {
          "base_uri": "https://localhost:8080/",
          "height": 35
        },
        "outputId": "7a570bb1-1ddb-44d4-dec5-8c33020b70f5"
      },
      "source": [
        "# output\n",
        "output"
      ],
      "execution_count": 85,
      "outputs": [
        {
          "output_type": "execute_result",
          "data": {
            "text/plain": [
              "array([[0.74014416, 0.76281469, 0.73737926]])"
            ]
          },
          "metadata": {
            "tags": []
          },
          "execution_count": 85
        }
      ]
    },
    {
      "cell_type": "markdown",
      "metadata": {
        "id": "6DTlFhBsEAHb",
        "colab_type": "text"
      },
      "source": [
        "Impliment Backword propogation"
      ]
    },
    {
      "cell_type": "code",
      "metadata": {
        "id": "zCYqZoZoEFpP",
        "colab_type": "code",
        "colab": {}
      },
      "source": [
        "# Calculating error\n",
        "erron= np.square(y-output)/2"
      ],
      "execution_count": 86,
      "outputs": []
    },
    {
      "cell_type": "code",
      "metadata": {
        "id": "G8615TXQE4oh",
        "colab_type": "code",
        "colab": {}
      },
      "source": [
        "# rate of change of erron with respect to output\n",
        "error_wrt_output= -(y-output)\n"
      ],
      "execution_count": 87,
      "outputs": []
    },
    {
      "cell_type": "code",
      "metadata": {
        "id": "HPjSLNM8FTmr",
        "colab_type": "code",
        "colab": {}
      },
      "source": [
        "# rate of change of output with respect to Z2\n",
        "output_wrt_Z2= np.multiply(output,(1-output))"
      ],
      "execution_count": 88,
      "outputs": []
    },
    {
      "cell_type": "code",
      "metadata": {
        "id": "_mQmR88dF33l",
        "colab_type": "code",
        "colab": {}
      },
      "source": [
        "# rate of change of Z2 with respect to weight between hidden and output layer\n",
        "Z2_wrt_who= hiddenlayer_activations"
      ],
      "execution_count": 89,
      "outputs": []
    },
    {
      "cell_type": "code",
      "metadata": {
        "id": "Zvpej_SDGZWO",
        "colab_type": "code",
        "colab": {
          "base_uri": "https://localhost:8080/",
          "height": 35
        },
        "outputId": "e5268b11-5a7e-47cf-afd7-e3601f4feb9f"
      },
      "source": [
        "# Checking the shape of partial derivations\n",
        "error_wrt_output.shape, output_wrt_Z2.shape,Z2_wrt_who.shape"
      ],
      "execution_count": 90,
      "outputs": [
        {
          "output_type": "execute_result",
          "data": {
            "text/plain": [
              "((1, 3), (1, 3), (3, 3))"
            ]
          },
          "metadata": {
            "tags": []
          },
          "execution_count": 90
        }
      ]
    },
    {
      "cell_type": "code",
      "metadata": {
        "id": "oKN0nVplG2LH",
        "colab_type": "code",
        "colab": {
          "base_uri": "https://localhost:8080/",
          "height": 35
        },
        "outputId": "5e9bba1b-d477-4b3c-fbb1-a15dbbdec0a1"
      },
      "source": [
        "# Shape of weight of output lapyer\n",
        "w_ho.shape"
      ],
      "execution_count": 91,
      "outputs": [
        {
          "output_type": "execute_result",
          "data": {
            "text/plain": [
              "(3, 1)"
            ]
          },
          "metadata": {
            "tags": []
          },
          "execution_count": 91
        }
      ]
    },
    {
      "cell_type": "code",
      "metadata": {
        "id": "_KbqsKtCHJdY",
        "colab_type": "code",
        "colab": {}
      },
      "source": [
        "# rate of change of error with respect to weight between hidden and output layer\n",
        "error_wrt_who= np.dot(Z2_wrt_who,(error_wrt_output*output_wrt_Z2).T)"
      ],
      "execution_count": 92,
      "outputs": []
    },
    {
      "cell_type": "code",
      "metadata": {
        "id": "xl6rEaDyIQac",
        "colab_type": "code",
        "colab": {
          "base_uri": "https://localhost:8080/",
          "height": 35
        },
        "outputId": "4d1cca2b-d1fc-4254-a6b6-357c6be10415"
      },
      "source": [
        "error_wrt_who.shape"
      ],
      "execution_count": 93,
      "outputs": [
        {
          "output_type": "execute_result",
          "data": {
            "text/plain": [
              "(3, 1)"
            ]
          },
          "metadata": {
            "tags": []
          },
          "execution_count": 93
        }
      ]
    },
    {
      "cell_type": "code",
      "metadata": {
        "id": "kJX5ox6XIicb",
        "colab_type": "code",
        "colab": {}
      },
      "source": [
        "# rate of change of error with respect to output\n",
        "error_wrt_output= -(y-output)"
      ],
      "execution_count": 94,
      "outputs": []
    },
    {
      "cell_type": "code",
      "metadata": {
        "id": "D5qMZ5JKTo_3",
        "colab_type": "code",
        "colab": {}
      },
      "source": [
        "# Rate of change of output with respect to Z2\n",
        "output_wrt_Z2= np.multiply(output, (1-output))"
      ],
      "execution_count": 95,
      "outputs": []
    },
    {
      "cell_type": "code",
      "metadata": {
        "id": "2u5Hr9AAU07C",
        "colab_type": "code",
        "colab": {}
      },
      "source": [
        "# Rate of change of Z2 with respect to hidden layer activation\n",
        "Z2_wrt_h1= w_ho"
      ],
      "execution_count": 96,
      "outputs": []
    },
    {
      "cell_type": "code",
      "metadata": {
        "id": "ueAcO9J-VF98",
        "colab_type": "code",
        "colab": {}
      },
      "source": [
        "# Rate of change of hidden layer activation with respect to Z1\n",
        "h1_wrt_Z1= np.multiply(hiddenlayer_activations,(1-hiddenlayer_activations))"
      ],
      "execution_count": 97,
      "outputs": []
    },
    {
      "cell_type": "code",
      "metadata": {
        "id": "u5Alno11WK3K",
        "colab_type": "code",
        "colab": {}
      },
      "source": [
        "# Rate of change of Z1 with respect to weight of input and hidden layer\n",
        "Z1_wrt_wih = X"
      ],
      "execution_count": 98,
      "outputs": []
    },
    {
      "cell_type": "code",
      "metadata": {
        "id": "Ao8Jnw0wWn6K",
        "colab_type": "code",
        "colab": {
          "base_uri": "https://localhost:8080/",
          "height": 35
        },
        "outputId": "a2617ef9-72a4-47a4-f567-c91d71375bc0"
      },
      "source": [
        "# Checking the shpe of partial derivation \n",
        "error_wrt_output.shape, output_wrt_Z2.shape, Z2_wrt_h1.shape, h1_wrt_Z1.shape,Z1_wrt_wih.shape"
      ],
      "execution_count": 99,
      "outputs": [
        {
          "output_type": "execute_result",
          "data": {
            "text/plain": [
              "((1, 3), (1, 3), (3, 1), (3, 3), (4, 3))"
            ]
          },
          "metadata": {
            "tags": []
          },
          "execution_count": 99
        }
      ]
    },
    {
      "cell_type": "code",
      "metadata": {
        "id": "g-r9MGDDXaZS",
        "colab_type": "code",
        "colab": {
          "base_uri": "https://localhost:8080/",
          "height": 35
        },
        "outputId": "fade76b8-58f4-4b64-b566-11b34e952308"
      },
      "source": [
        " # shape of weight of hidden layer\n",
        " w_ih.shape"
      ],
      "execution_count": 100,
      "outputs": [
        {
          "output_type": "execute_result",
          "data": {
            "text/plain": [
              "(4, 3)"
            ]
          },
          "metadata": {
            "tags": []
          },
          "execution_count": 100
        }
      ]
    },
    {
      "cell_type": "code",
      "metadata": {
        "id": "5ZtmLZ9eZVjn",
        "colab_type": "code",
        "colab": {}
      },
      "source": [
        "# rate of change of error with respect to weight between input and hidden layer\n",
        "error_wrt_wih = np.dot(Z1_wrt_wih,(h1_wrt_Z1 * np.dot(Z2_wrt_h1,(output_wrt_Z2 * error_wrt_output))).T)"
      ],
      "execution_count": 101,
      "outputs": []
    },
    {
      "cell_type": "code",
      "metadata": {
        "id": "B2SkpqRdcXVQ",
        "colab_type": "code",
        "colab": {
          "base_uri": "https://localhost:8080/",
          "height": 35
        },
        "outputId": "4d50b732-9db2-432b-bd76-919a1da4194a"
      },
      "source": [
        "error_wrt_wih.shape"
      ],
      "execution_count": 102,
      "outputs": [
        {
          "output_type": "execute_result",
          "data": {
            "text/plain": [
              "(4, 3)"
            ]
          },
          "metadata": {
            "tags": []
          },
          "execution_count": 102
        }
      ]
    },
    {
      "cell_type": "markdown",
      "metadata": {
        "id": "6Pzt0vdBcpVo",
        "colab_type": "text"
      },
      "source": [
        "Update the parameters"
      ]
    },
    {
      "cell_type": "code",
      "metadata": {
        "id": "i02hQ37Acswh",
        "colab_type": "code",
        "colab": {}
      },
      "source": [
        "# defining the learning rate\n",
        "lr = 0.01"
      ],
      "execution_count": 103,
      "outputs": []
    },
    {
      "cell_type": "code",
      "metadata": {
        "id": "XlHFj6CXc-W3",
        "colab_type": "code",
        "colab": {
          "base_uri": "https://localhost:8080/",
          "height": 69
        },
        "outputId": "14ed4b8b-3c74-4e47-b50c-e00e72123a92"
      },
      "source": [
        "# initial w_ho and w_ih\n",
        "w_ho"
      ],
      "execution_count": 105,
      "outputs": [
        {
          "output_type": "execute_result",
          "data": {
            "text/plain": [
              "array([[0.91048588],\n",
              "       [0.51051327],\n",
              "       [0.05532917]])"
            ]
          },
          "metadata": {
            "tags": []
          },
          "execution_count": 105
        }
      ]
    },
    {
      "cell_type": "code",
      "metadata": {
        "id": "Cw7Y5MjxdEQR",
        "colab_type": "code",
        "colab": {
          "base_uri": "https://localhost:8080/",
          "height": 87
        },
        "outputId": "f8bf8f51-f652-49ec-8094-c2cbd3de556a"
      },
      "source": [
        "w_ih"
      ],
      "execution_count": 106,
      "outputs": [
        {
          "output_type": "execute_result",
          "data": {
            "text/plain": [
              "array([[0.22141886, 0.76487286, 0.37411787],\n",
              "       [0.29305489, 0.55926951, 0.78235748],\n",
              "       [0.64743924, 0.18108375, 0.37352656],\n",
              "       [0.52070042, 0.28437608, 0.63548262]])"
            ]
          },
          "metadata": {
            "tags": []
          },
          "execution_count": 106
        }
      ]
    },
    {
      "cell_type": "code",
      "metadata": {
        "id": "TxF-Fb3pdPPy",
        "colab_type": "code",
        "colab": {}
      },
      "source": [
        "# updating the weight of output layer\n",
        "w_ho = w_ho - lr * error_wrt_who"
      ],
      "execution_count": 110,
      "outputs": []
    },
    {
      "cell_type": "code",
      "metadata": {
        "id": "ihsDCMRJdx-h",
        "colab_type": "code",
        "colab": {}
      },
      "source": [
        "# updating the weigh of hidden layer\n",
        "w_ih = w_ih - lr * error_wrt_wih"
      ],
      "execution_count": 111,
      "outputs": []
    },
    {
      "cell_type": "code",
      "metadata": {
        "id": "AHk72QTdfmQK",
        "colab_type": "code",
        "colab": {
          "base_uri": "https://localhost:8080/",
          "height": 69
        },
        "outputId": "62425be7-4871-41e5-fbe7-ccbcef04b17f"
      },
      "source": [
        "# updated w_ho and w_ih\n",
        "w_ho"
      ],
      "execution_count": 112,
      "outputs": [
        {
          "output_type": "execute_result",
          "data": {
            "text/plain": [
              "array([[0.90989828],\n",
              "       [0.50990053],\n",
              "       [0.05439473]])"
            ]
          },
          "metadata": {
            "tags": []
          },
          "execution_count": 112
        }
      ]
    },
    {
      "cell_type": "code",
      "metadata": {
        "id": "csQjFpsafyWp",
        "colab_type": "code",
        "colab": {
          "base_uri": "https://localhost:8080/",
          "height": 87
        },
        "outputId": "6a490e91-c5c9-4443-bc0b-8306eeafd953"
      },
      "source": [
        "w_ih"
      ],
      "execution_count": 113,
      "outputs": [
        {
          "output_type": "execute_result",
          "data": {
            "text/plain": [
              "array([[0.2217331 , 0.76505234, 0.37413754],\n",
              "       [0.2925016 , 0.55896289, 0.78233268],\n",
              "       [0.64775349, 0.18126323, 0.37354624],\n",
              "       [0.52027191, 0.28414614, 0.63546543]])"
            ]
          },
          "metadata": {
            "tags": []
          },
          "execution_count": 113
        }
      ]
    },
    {
      "cell_type": "markdown",
      "metadata": {
        "id": "orZYVZiagZdm",
        "colab_type": "text"
      },
      "source": [
        "6 Training the model for n epochs"
      ]
    },
    {
      "cell_type": "code",
      "metadata": {
        "id": "drhc78Jfgj5R",
        "colab_type": "code",
        "colab": {}
      },
      "source": [
        "# defining the model architecture\n",
        "inputlayer_neurons = X.shape[0] # number of feature in dataset\n",
        "hiddenlayer_neurons = 3 # Number of hidden layer in neurons\n",
        "output_neurons = 1 # Number of neurons at output layer"
      ],
      "execution_count": 114,
      "outputs": []
    },
    {
      "cell_type": "code",
      "metadata": {
        "id": "3T0nSP7Whqi5",
        "colab_type": "code",
        "colab": {}
      },
      "source": [
        "# Initializing weight\n",
        "w_ih = np.random.uniform(size=(inputlayer_neurons, hiddenlayer_neurons))\n",
        "w_ho = np.random.uniform(size=(hiddenlayer_neurons, output_neurons))"
      ],
      "execution_count": 115,
      "outputs": []
    },
    {
      "cell_type": "code",
      "metadata": {
        "id": "TZhfPgUiid7Z",
        "colab_type": "code",
        "colab": {}
      },
      "source": [
        "# Defining the parameter\n",
        "lr = 0.01\n",
        "epochs = 10000"
      ],
      "execution_count": 116,
      "outputs": []
    },
    {
      "cell_type": "code",
      "metadata": {
        "id": "8huJsJqzizFS",
        "colab_type": "code",
        "colab": {
          "base_uri": "https://localhost:8080/",
          "height": 87
        },
        "outputId": "3c67b4ed-c993-40fe-efa5-32789c1b4894"
      },
      "source": [
        "# initial w_ih and w_ho\n",
        "w_ih                                                                                  "
      ],
      "execution_count": 117,
      "outputs": [
        {
          "output_type": "execute_result",
          "data": {
            "text/plain": [
              "array([[0.48552475, 0.75526569, 0.43942593],\n",
              "       [0.49889505, 0.47418019, 0.9279238 ],\n",
              "       [0.0269785 , 0.31966367, 0.77704151],\n",
              "       [0.00945204, 0.62982847, 0.89315365]])"
            ]
          },
          "metadata": {
            "tags": []
          },
          "execution_count": 117
        }
      ]
    },
    {
      "cell_type": "code",
      "metadata": {
        "id": "DDpuZ9NUjKJK",
        "colab_type": "code",
        "colab": {
          "base_uri": "https://localhost:8080/",
          "height": 69
        },
        "outputId": "8d2a451f-0c3f-496f-e437-298f2f943600"
      },
      "source": [
        "w_ho"
      ],
      "execution_count": 118,
      "outputs": [
        {
          "output_type": "execute_result",
          "data": {
            "text/plain": [
              "array([[0.01510374],\n",
              "       [0.19592794],\n",
              "       [0.23040547]])"
            ]
          },
          "metadata": {
            "tags": []
          },
          "execution_count": 118
        }
      ]
    },
    {
      "cell_type": "code",
      "metadata": {
        "id": "3mSi-tDejMLK",
        "colab_type": "code",
        "colab": {}
      },
      "source": [
        "error_epoch = []\n",
        "for i in range(epochs):\n",
        "  # forwaard propogation\n",
        "\n",
        "  # Hidden layer activation\n",
        "  hidden_layer_input = np.dot(w_ih.T,X)\n",
        "  hiddenlayer_activations = sigmoid(hidden_layer_input)\n",
        "\n",
        "  # Calculating the output\n",
        "  output_layer_input = np.dot(w_ho.T,hiddenlayer_activations)\n",
        "  output = sigmoid(output_layer_input)\n",
        "\n",
        "  # Backword propogation\n",
        "\n",
        "  # Calculating error\n",
        "  error = np.square(y-output)/2\n",
        "  error_wrt_output = -(y-output)\n",
        "  output_wrt_Z2 = np.multiply(output,(1-output))\n",
        "  Z2_wrt_who = hiddenlayer_activations\n",
        "  \n",
        "  # rate of change of error with respect to weight between hidden and output layer\n",
        "  error_wrt_who = np.dot(Z2_wrt_who,(error_wrt_output * output_wrt_Z2).T)\n",
        "  Z2_wrt_h1 = w_ho\n",
        "  h1_wrt_Z1 = np.multiply(hiddenlayer_activations,(1-hiddenlayer_activations))\n",
        "  Z1_wrt_wih = X\n",
        "\n",
        "  # Rate of change of error with respect to weight between input and hidden layer\n",
        "  error_wrt_wih = np.dot(Z1_wrt_wih,(h1_wrt_Z1 * np.dot(Z2_wrt_h1,(error_wrt_output * output_wrt_Z2))).T)\n",
        "\n",
        "  # Updating the weight betweeen hidden and output layer\n",
        "  w_ho = w_ho - lr * error_wrt_who\n",
        "\n",
        "  # updating the weight between input and hidden layer\n",
        "  w_ih = w_ih - lr * error_wrt_wih\n",
        "\n",
        "  # appending the error of each epoch\n",
        "  error_epoch.append(np.average(error))\n",
        "\n",
        "\n",
        "\n",
        "\n",
        "   "
      ],
      "execution_count": 122,
      "outputs": []
    },
    {
      "cell_type": "code",
      "metadata": {
        "id": "D1xL-dv5neZz",
        "colab_type": "code",
        "colab": {
          "base_uri": "https://localhost:8080/",
          "height": 87
        },
        "outputId": "e0c5b215-d135-4b2d-c46d-22b384fc4da7"
      },
      "source": [
        "# updated w_ih and w_ho\n",
        "w_ih"
      ],
      "execution_count": 123,
      "outputs": [
        {
          "output_type": "execute_result",
          "data": {
            "text/plain": [
              "array([[ 0.63439049,  1.85427743,  0.30465705],\n",
              "       [ 0.33129758, -1.73065725,  1.15145643],\n",
              "       [ 0.17584424,  1.41867542,  0.64227262],\n",
              "       [-0.08966245, -0.9349898 ,  1.0419061 ]])"
            ]
          },
          "metadata": {
            "tags": []
          },
          "execution_count": 123
        }
      ]
    },
    {
      "cell_type": "code",
      "metadata": {
        "id": "xcm67tKirq81",
        "colab_type": "code",
        "colab": {
          "base_uri": "https://localhost:8080/",
          "height": 69
        },
        "outputId": "1c36103a-652a-46eb-9991-7ab58967160c"
      },
      "source": [
        "w_ho"
      ],
      "execution_count": 124,
      "outputs": [
        {
          "output_type": "execute_result",
          "data": {
            "text/plain": [
              "array([[-0.20599558],\n",
              "       [ 3.41587467],\n",
              "       [-1.42155044]])"
            ]
          },
          "metadata": {
            "tags": []
          },
          "execution_count": 124
        }
      ]
    },
    {
      "cell_type": "code",
      "metadata": {
        "id": "hByegcDFrssa",
        "colab_type": "code",
        "colab": {
          "base_uri": "https://localhost:8080/",
          "height": 283
        },
        "outputId": "aa383983-84a4-421f-93a1-fac07cf85672"
      },
      "source": [
        "# Visualising the error after each epoch\n",
        "plt.plot(np.arange(1,epochs+1), np.array(error_epoch))"
      ],
      "execution_count": 126,
      "outputs": [
        {
          "output_type": "execute_result",
          "data": {
            "text/plain": [
              "[<matplotlib.lines.Line2D at 0x7f9a4155ea90>]"
            ]
          },
          "metadata": {
            "tags": []
          },
          "execution_count": 126
        },
        {
          "output_type": "display_data",
          "data": {
            "image/png": "[encoded data removed]",
            "text/plain": [
              "<Figure size 432x288 with 1 Axes>"
            ]
          },
          "metadata": {
            "tags": [],
            "needs_background": "light"
          }
        }
      ]
    },
    {
      "cell_type": "code",
      "metadata": {
        "id": "4vYkkxrSscnC",
        "colab_type": "code",
        "colab": {
          "base_uri": "https://localhost:8080/",
          "height": 35
        },
        "outputId": "53182638-ed7e-4cc6-b9f7-477618429c3a"
      },
      "source": [
        "# Final output from the model\n",
        "output"
      ],
      "execution_count": 130,
      "outputs": [
        {
          "output_type": "execute_result",
          "data": {
            "text/plain": [
              "array([[0.89323243, 0.84890825, 0.23649831]])"
            ]
          },
          "metadata": {
            "tags": []
          },
          "execution_count": 130
        }
      ]
    },
    {
      "cell_type": "code",
      "metadata": {
        "id": "T2k2W9RDswAy",
        "colab_type": "code",
        "colab": {
          "base_uri": "https://localhost:8080/",
          "height": 35
        },
        "outputId": "aac12457-2f04-470c-af43-a36be3312048"
      },
      "source": [
        "# actual target\n",
        "y"
      ],
      "execution_count": 131,
      "outputs": [
        {
          "output_type": "execute_result",
          "data": {
            "text/plain": [
              "array([[1, 1, 0]])"
            ]
          },
          "metadata": {
            "tags": []
          },
          "execution_count": 131
        }
      ]
    },
    {
      "cell_type": "code",
      "metadata": {
        "id": "5le8M0tps5Oi",
        "colab_type": "code",
        "colab": {
          "base_uri": "https://localhost:8080/",
          "height": 35
        },
        "outputId": "38dee7fd-c589-4e30-f24d-765e52254a90"
      },
      "source": [
        "# error at last epoch\n",
        "error"
      ],
      "execution_count": 132,
      "outputs": [
        {
          "output_type": "execute_result",
          "data": {
            "text/plain": [
              "array([[0.00569966, 0.01141436, 0.02796572]])"
            ]
          },
          "metadata": {
            "tags": []
          },
          "execution_count": 132
        }
      ]
    }
  ]
}